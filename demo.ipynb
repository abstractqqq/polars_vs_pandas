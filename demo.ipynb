{
 "cells": [
  {
   "cell_type": "code",
   "execution_count": 1,
   "metadata": {},
   "outputs": [],
   "source": [
    "import polars as pl \n",
    "import pandas as pd\n",
    "# import sys\n",
    "from time import perf_counter"
   ]
  },
  {
   "cell_type": "markdown",
   "metadata": {},
   "source": [
    "# Data Loading "
   ]
  },
  {
   "cell_type": "code",
   "execution_count": 2,
   "metadata": {},
   "outputs": [
    {
     "name": "stdout",
     "output_type": "stream",
     "text": [
      "567898\n",
      "['Day', 'Region', 'Metric1', 'Metric2', 'Metric3']\n",
      "Spent 0.03s.\n"
     ]
    }
   ],
   "source": [
    "start = perf_counter()\n",
    "df_pl = pl.read_csv(\"./data/data1.csv\", skip_rows=2) # Not lazy read.\n",
    "print(len(df_pl))\n",
    "print(df_pl.columns)\n",
    "end = perf_counter()\n",
    "print(f\"Spent {round(end-start,2)}s.\")"
   ]
  },
  {
   "cell_type": "code",
   "execution_count": 3,
   "metadata": {},
   "outputs": [
    {
     "name": "stdout",
     "output_type": "stream",
     "text": [
      "567898\n",
      "Index(['Day', 'Region', 'Metric1', 'Metric2', 'Metric3'], dtype='object')\n",
      "Spent 0.23s.\n"
     ]
    }
   ],
   "source": [
    "start = perf_counter()\n",
    "df_pd = pd.read_csv(\"./data/data1.csv\", skiprows=2)\n",
    "print(len(df_pd))\n",
    "print(df_pd.columns)\n",
    "end = perf_counter()\n",
    "print(f\"Spent {round(end-start,2)}s.\")"
   ]
  },
  {
   "attachments": {},
   "cell_type": "markdown",
   "metadata": {},
   "source": [
    "# Clean Zip Code\n",
    "\n",
    "1. Make zips like 1234 into 01234\n",
    "2. Get rid of everything after '-'. E.g. 01234-123 ---> 01234"
   ]
  },
  {
   "cell_type": "code",
   "execution_count": 4,
   "metadata": {},
   "outputs": [],
   "source": [
    "df1_pl = pl.read_csv(\"./data/data2.csv\")\n",
    "df1_pd = pd.read_csv(\"./data/data2.csv\")"
   ]
  },
  {
   "cell_type": "code",
   "execution_count": 5,
   "metadata": {},
   "outputs": [
    {
     "data": {
      "text/html": [
       "<div>\n",
       "<style>\n",
       ".pl-dataframe > thead > tr > th {\n",
       "  text-align: right;\n",
       "}\n",
       "</style>\n",
       "\n",
       "<table border=\"1\" class=\"dataframe pl-dataframe\">\n",
       "<small>shape: (5, 5)</small>\n",
       "<thead>\n",
       "<tr>\n",
       "<th>\n",
       "day\n",
       "</th>\n",
       "<th>\n",
       "country\n",
       "</th>\n",
       "<th>\n",
       "postal_code\n",
       "</th>\n",
       "<th>\n",
       "total_sales\n",
       "</th>\n",
       "<th>\n",
       "orders\n",
       "</th>\n",
       "</tr>\n",
       "<tr>\n",
       "<td>\n",
       "str\n",
       "</td>\n",
       "<td>\n",
       "str\n",
       "</td>\n",
       "<td>\n",
       "str\n",
       "</td>\n",
       "<td>\n",
       "f64\n",
       "</td>\n",
       "<td>\n",
       "i64\n",
       "</td>\n",
       "</tr>\n",
       "</thead>\n",
       "<tbody>\n",
       "<tr>\n",
       "<td>\n",
       "&quot;7/1/2022&quot;\n",
       "</td>\n",
       "<td>\n",
       "&quot;United States&quot;\n",
       "</td>\n",
       "<td>\n",
       "&quot;84115&quot;\n",
       "</td>\n",
       "<td>\n",
       "6.384645\n",
       "</td>\n",
       "<td>\n",
       "1\n",
       "</td>\n",
       "</tr>\n",
       "<tr>\n",
       "<td>\n",
       "&quot;7/1/2022&quot;\n",
       "</td>\n",
       "<td>\n",
       "&quot;United States&quot;\n",
       "</td>\n",
       "<td>\n",
       "&quot;91326-1749&quot;\n",
       "</td>\n",
       "<td>\n",
       "2.11396\n",
       "</td>\n",
       "<td>\n",
       "1\n",
       "</td>\n",
       "</tr>\n",
       "<tr>\n",
       "<td>\n",
       "&quot;7/1/2022&quot;\n",
       "</td>\n",
       "<td>\n",
       "&quot;United States&quot;\n",
       "</td>\n",
       "<td>\n",
       "&quot;93103&quot;\n",
       "</td>\n",
       "<td>\n",
       "20.224295\n",
       "</td>\n",
       "<td>\n",
       "1\n",
       "</td>\n",
       "</tr>\n",
       "<tr>\n",
       "<td>\n",
       "&quot;7/1/2022&quot;\n",
       "</td>\n",
       "<td>\n",
       "&quot;United States&quot;\n",
       "</td>\n",
       "<td>\n",
       "&quot;2465&quot;\n",
       "</td>\n",
       "<td>\n",
       "94.73113\n",
       "</td>\n",
       "<td>\n",
       "1\n",
       "</td>\n",
       "</tr>\n",
       "<tr>\n",
       "<td>\n",
       "&quot;7/1/2022&quot;\n",
       "</td>\n",
       "<td>\n",
       "&quot;United States&quot;\n",
       "</td>\n",
       "<td>\n",
       "&quot;80108&quot;\n",
       "</td>\n",
       "<td>\n",
       "52.652385\n",
       "</td>\n",
       "<td>\n",
       "1\n",
       "</td>\n",
       "</tr>\n",
       "</tbody>\n",
       "</table>\n",
       "</div>"
      ],
      "text/plain": [
       "shape: (5, 5)\n",
       "┌──────────┬───────────────┬─────────────┬─────────────┬────────┐\n",
       "│ day      ┆ country       ┆ postal_code ┆ total_sales ┆ orders │\n",
       "│ ---      ┆ ---           ┆ ---         ┆ ---         ┆ ---    │\n",
       "│ str      ┆ str           ┆ str         ┆ f64         ┆ i64    │\n",
       "╞══════════╪═══════════════╪═════════════╪═════════════╪════════╡\n",
       "│ 7/1/2022 ┆ United States ┆ 84115       ┆ 6.384645    ┆ 1      │\n",
       "│ 7/1/2022 ┆ United States ┆ 91326-1749  ┆ 2.11396     ┆ 1      │\n",
       "│ 7/1/2022 ┆ United States ┆ 93103       ┆ 20.224295   ┆ 1      │\n",
       "│ 7/1/2022 ┆ United States ┆ 2465        ┆ 94.73113    ┆ 1      │\n",
       "│ 7/1/2022 ┆ United States ┆ 80108       ┆ 52.652385   ┆ 1      │\n",
       "└──────────┴───────────────┴─────────────┴─────────────┴────────┘"
      ]
     },
     "execution_count": 5,
     "metadata": {},
     "output_type": "execute_result"
    }
   ],
   "source": [
    "df1_pl.limit(5)"
   ]
  },
  {
   "cell_type": "code",
   "execution_count": 6,
   "metadata": {},
   "outputs": [
    {
     "name": "stdout",
     "output_type": "stream",
     "text": [
      "        day        country postal_code  total_sales  orders\n",
      "0  7/1/2022  United States       84115     6.384645       1\n",
      "1  7/1/2022  United States  91326-1749     2.113960       1\n",
      "2  7/1/2022  United States       93103    20.224295       1\n",
      "3  7/1/2022  United States        2465    94.731130       1\n",
      "4  7/1/2022  United States       80108    52.652385       1\n",
      "day             object\n",
      "country         object\n",
      "postal_code     object\n",
      "total_sales    float64\n",
      "orders           int64\n",
      "dtype: object\n"
     ]
    }
   ],
   "source": [
    "print(df1_pd.head())\n",
    "print(df1_pd.dtypes)"
   ]
  },
  {
   "cell_type": "code",
   "execution_count": 7,
   "metadata": {},
   "outputs": [
    {
     "name": "stdout",
     "output_type": "stream",
     "text": [
      "shape: (5, 6)\n",
      "┌──────────┬───────────────┬─────────────┬─────────────┬────────┬───────────────┐\n",
      "│ day      ┆ country       ┆ postal_code ┆ total_sales ┆ orders ┆ postal_code_2 │\n",
      "│ ---      ┆ ---           ┆ ---         ┆ ---         ┆ ---    ┆ ---           │\n",
      "│ str      ┆ str           ┆ str         ┆ f64         ┆ i64    ┆ str           │\n",
      "╞══════════╪═══════════════╪═════════════╪═════════════╪════════╪═══════════════╡\n",
      "│ 7/1/2022 ┆ United States ┆ 84115       ┆ 6.384645    ┆ 1      ┆ 84115         │\n",
      "│ 7/1/2022 ┆ United States ┆ 91326-1749  ┆ 2.11396     ┆ 1      ┆ 91326         │\n",
      "│ 7/1/2022 ┆ United States ┆ 93103       ┆ 20.224295   ┆ 1      ┆ 93103         │\n",
      "│ 7/1/2022 ┆ United States ┆ 2465        ┆ 94.73113    ┆ 1      ┆ 02465         │\n",
      "│ 7/1/2022 ┆ United States ┆ 80108       ┆ 52.652385   ┆ 1      ┆ 80108         │\n",
      "└──────────┴───────────────┴─────────────┴─────────────┴────────┴───────────────┘\n",
      "Spent 0.008s.\n"
     ]
    }
   ],
   "source": [
    "start = perf_counter()\n",
    "df1_pl = df1_pl.with_columns(\n",
    "            pl.col('postal_code').str.splitn(\"-\",2).struct.field(\"field_0\").str.rjust(5, \"0\").alias('postal_code_2')\n",
    "        )\n",
    "print(df1_pl.limit(5))\n",
    "end = perf_counter()\n",
    "print(f\"Spent {round(end-start,3)}s.\")"
   ]
  },
  {
   "cell_type": "code",
   "execution_count": 11,
   "metadata": {},
   "outputs": [
    {
     "name": "stdout",
     "output_type": "stream",
     "text": [
      "        day        country postal_code  total_sales  orders postal_code_2\n",
      "0  7/1/2022  United States       84115     6.384645       1         84115\n",
      "1  7/1/2022  United States  91326-1749     2.113960       1         91326\n",
      "2  7/1/2022  United States       93103    20.224295       1         93103\n",
      "3  7/1/2022  United States        2465    94.731130       1         02465\n",
      "4  7/1/2022  United States       80108    52.652385       1         80108\n",
      "Spent 0.114s.\n"
     ]
    }
   ],
   "source": [
    "start = perf_counter()\n",
    "# df1_pd[\"postal_code\"].str.split(pat=\"-\",n=2,expand=False).str[0].str.rjust(5, \"0\")\n",
    "# [x.split(\"-\")[0].rjust(5, \"0\") for x in df1_pd[\"postal_code\"]]\n",
    "df1_pd[\"postal_code_2\"] = df1_pd[\"postal_code\"].str.split(pat=\"-\",n=2,expand=False).str[0].str.rjust(5, \"0\")\n",
    "print(df1_pd.head(5))\n",
    "end = perf_counter()\n",
    "print(f\"Spent {round(end-start,3)}s.\")"
   ]
  },
  {
   "cell_type": "markdown",
   "metadata": {},
   "source": [
    "# Filtering \n",
    "\n",
    "1. country = \"United States\""
   ]
  },
  {
   "cell_type": "code",
   "execution_count": 12,
   "metadata": {},
   "outputs": [
    {
     "name": "stdout",
     "output_type": "stream",
     "text": [
      "Spent 0.004s.\n"
     ]
    }
   ],
   "source": [
    "start = perf_counter()\n",
    "df1_pl = df1_pl.filter(pl.col(\"country\") == \"United States\")\n",
    "end = perf_counter()\n",
    "print(f\"Spent {round(end-start,3)}s.\")"
   ]
  },
  {
   "cell_type": "code",
   "execution_count": 13,
   "metadata": {},
   "outputs": [
    {
     "name": "stdout",
     "output_type": "stream",
     "text": [
      "Spent 0.016s.\n"
     ]
    }
   ],
   "source": [
    "start = perf_counter()\n",
    "df1_pd = df1_pd[df1_pd[\"country\"] == \"United States\"]\n",
    "end = perf_counter()\n",
    "print(f\"Spent {round(end-start,3)}s.\")"
   ]
  },
  {
   "cell_type": "markdown",
   "metadata": {},
   "source": [
    "# Joining "
   ]
  },
  {
   "cell_type": "code",
   "execution_count": 14,
   "metadata": {},
   "outputs": [],
   "source": [
    "dim_pl = pl.read_csv(\"./data/geo_zip_dim.csv\", dtypes={\"postal_code\":str})\n",
    "dim_pd = pd.read_csv(\"./data/geo_zip_dim.csv\", dtype={\"postal_code\":str})"
   ]
  },
  {
   "cell_type": "code",
   "execution_count": 15,
   "metadata": {},
   "outputs": [
    {
     "data": {
      "text/html": [
       "<div>\n",
       "<style>\n",
       ".pl-dataframe > thead > tr > th {\n",
       "  text-align: right;\n",
       "}\n",
       "</style>\n",
       "\n",
       "<table border=\"1\" class=\"dataframe pl-dataframe\">\n",
       "<small>shape: (5, 3)</small>\n",
       "<thead>\n",
       "<tr>\n",
       "<th>\n",
       "postal_code\n",
       "</th>\n",
       "<th>\n",
       "dma_code\n",
       "</th>\n",
       "<th>\n",
       "dma_name\n",
       "</th>\n",
       "</tr>\n",
       "<tr>\n",
       "<td>\n",
       "str\n",
       "</td>\n",
       "<td>\n",
       "i64\n",
       "</td>\n",
       "<td>\n",
       "str\n",
       "</td>\n",
       "</tr>\n",
       "</thead>\n",
       "<tbody>\n",
       "<tr>\n",
       "<td>\n",
       "&quot;11005&quot;\n",
       "</td>\n",
       "<td>\n",
       "501\n",
       "</td>\n",
       "<td>\n",
       "&quot;New York&quot;\n",
       "</td>\n",
       "</tr>\n",
       "<tr>\n",
       "<td>\n",
       "&quot;11010&quot;\n",
       "</td>\n",
       "<td>\n",
       "501\n",
       "</td>\n",
       "<td>\n",
       "&quot;New York&quot;\n",
       "</td>\n",
       "</tr>\n",
       "<tr>\n",
       "<td>\n",
       "&quot;11020&quot;\n",
       "</td>\n",
       "<td>\n",
       "501\n",
       "</td>\n",
       "<td>\n",
       "&quot;New York&quot;\n",
       "</td>\n",
       "</tr>\n",
       "<tr>\n",
       "<td>\n",
       "&quot;11021&quot;\n",
       "</td>\n",
       "<td>\n",
       "501\n",
       "</td>\n",
       "<td>\n",
       "&quot;New York&quot;\n",
       "</td>\n",
       "</tr>\n",
       "<tr>\n",
       "<td>\n",
       "&quot;11023&quot;\n",
       "</td>\n",
       "<td>\n",
       "501\n",
       "</td>\n",
       "<td>\n",
       "&quot;New York&quot;\n",
       "</td>\n",
       "</tr>\n",
       "</tbody>\n",
       "</table>\n",
       "</div>"
      ],
      "text/plain": [
       "shape: (5, 3)\n",
       "┌─────────────┬──────────┬──────────┐\n",
       "│ postal_code ┆ dma_code ┆ dma_name │\n",
       "│ ---         ┆ ---      ┆ ---      │\n",
       "│ str         ┆ i64      ┆ str      │\n",
       "╞═════════════╪══════════╪══════════╡\n",
       "│ 11005       ┆ 501      ┆ New York │\n",
       "│ 11010       ┆ 501      ┆ New York │\n",
       "│ 11020       ┆ 501      ┆ New York │\n",
       "│ 11021       ┆ 501      ┆ New York │\n",
       "│ 11023       ┆ 501      ┆ New York │\n",
       "└─────────────┴──────────┴──────────┘"
      ]
     },
     "execution_count": 15,
     "metadata": {},
     "output_type": "execute_result"
    }
   ],
   "source": [
    "dim_pl.limit(5)"
   ]
  },
  {
   "cell_type": "code",
   "execution_count": 16,
   "metadata": {},
   "outputs": [
    {
     "name": "stdout",
     "output_type": "stream",
     "text": [
      "Spent 0.005s.\n",
      "shape: (5, 8)\n",
      "┌──────────┬─────────┬───────────┬────────────────┬────────┬────────────┬──────────┬───────────────┐\n",
      "│ day      ┆ country ┆ postal_co ┆ total_sales    ┆ orders ┆ postal_cod ┆ dma_code ┆ dma_name      │\n",
      "│ ---      ┆ ---     ┆ de        ┆ ---            ┆ ---    ┆ e_2        ┆ ---      ┆ ---           │\n",
      "│ str      ┆ str     ┆ ---       ┆ f64            ┆ i64    ┆ ---        ┆ i64      ┆ str           │\n",
      "│          ┆         ┆ str       ┆                ┆        ┆ str        ┆          ┆               │\n",
      "╞══════════╪═════════╪═══════════╪════════════════╪════════╪════════════╪══════════╪═══════════════╡\n",
      "│ 7/1/2022 ┆ United  ┆ 84115     ┆ 6.384645       ┆ 1      ┆ 84115      ┆ 770      ┆ Salt Lake     │\n",
      "│          ┆ States  ┆           ┆                ┆        ┆            ┆          ┆ City          │\n",
      "│ 7/1/2022 ┆ United  ┆ 91326-174 ┆ 2.11396        ┆ 1      ┆ 91326      ┆ 803      ┆ Los Angeles   │\n",
      "│          ┆ States  ┆ 9         ┆                ┆        ┆            ┆          ┆               │\n",
      "│ 7/1/2022 ┆ United  ┆ 93103     ┆ 20.224295      ┆ 1      ┆ 93103      ┆ 855      ┆ Santabarbra-S │\n",
      "│          ┆ States  ┆           ┆                ┆        ┆            ┆          ┆ anmar-Sanluob │\n",
      "│ 7/1/2022 ┆ United  ┆ 2465      ┆ 94.73113       ┆ 1      ┆ 02465      ┆ 506      ┆ Boston        │\n",
      "│          ┆ States  ┆           ┆                ┆        ┆            ┆          ┆ (Manchester)  │\n",
      "│ 7/1/2022 ┆ United  ┆ 80108     ┆ 52.652385      ┆ 1      ┆ 80108      ┆ 751      ┆ Denver        │\n",
      "│          ┆ States  ┆           ┆                ┆        ┆            ┆          ┆               │\n",
      "└──────────┴─────────┴───────────┴────────────────┴────────┴────────────┴──────────┴───────────────┘\n"
     ]
    }
   ],
   "source": [
    "start = perf_counter()\n",
    "df1_pl = df1_pl.join(dim_pl, left_on=\"postal_code_2\", right_on=\"postal_code\", how=\"left\")\n",
    "end = perf_counter()\n",
    "print(f\"Spent {round(end-start,3)}s.\")\n",
    "print(df1_pl.limit(5))\n"
   ]
  },
  {
   "cell_type": "code",
   "execution_count": 17,
   "metadata": {},
   "outputs": [
    {
     "name": "stdout",
     "output_type": "stream",
     "text": [
      "Spent 0.037s.\n",
      "        day        country postal_code_x  total_sales  orders postal_code_2  \\\n",
      "0  7/1/2022  United States         84115     6.384645       1         84115   \n",
      "1  7/1/2022  United States    91326-1749     2.113960       1         91326   \n",
      "2  7/1/2022  United States         93103    20.224295       1         93103   \n",
      "3  7/1/2022  United States          2465    94.731130       1         02465   \n",
      "4  7/1/2022  United States         80108    52.652385       1         80108   \n",
      "\n",
      "  postal_code_y  dma_code                    dma_name  \n",
      "0         84115     770.0              Salt Lake City  \n",
      "1         91326     803.0                 Los Angeles  \n",
      "2         93103     855.0  Santabarbra-Sanmar-Sanluob  \n",
      "3         02465     506.0         Boston (Manchester)  \n",
      "4         80108     751.0                      Denver  \n"
     ]
    }
   ],
   "source": [
    "start = perf_counter()\n",
    "df1_pd = df1_pd.merge(dim_pd, left_on=\"postal_code_2\", right_on=\"postal_code\", how=\"left\")\n",
    "end = perf_counter() \n",
    "print(f\"Spent {round(end-start,3)}s.\")\n",
    "print(df1_pd.head(5))"
   ]
  },
  {
   "cell_type": "markdown",
   "metadata": {},
   "source": [
    "# Grouping "
   ]
  },
  {
   "cell_type": "code",
   "execution_count": 19,
   "metadata": {},
   "outputs": [
    {
     "name": "stdout",
     "output_type": "stream",
     "text": [
      "84288\n",
      "Spent 0.003s.\n",
      "shape: (5, 4)\n",
      "┌──────────┬─────────────────────────┬───────────────┬─────────────┐\n",
      "│ dma_code ┆ dma_name                ┆ ZipCodesInDMA ┆ total_sales │\n",
      "│ ---      ┆ ---                     ┆ ---           ┆ ---         │\n",
      "│ i64      ┆ str                     ┆ u32           ┆ f64         │\n",
      "╞══════════╪═════════════════════════╪═══════════════╪═════════════╡\n",
      "│ 662      ┆ Abilene-Sweetwater      ┆ 8             ┆ 643.593381  │\n",
      "│ 525      ┆ Albany, GA              ┆ 8             ┆ 868.506348  │\n",
      "│ 532      ┆ Albany-Schenectady-Troy ┆ 69            ┆ 8595.964934 │\n",
      "│ 790      ┆ Albuquerque-Santa Fe    ┆ 34            ┆ 7881.710945 │\n",
      "│ 644      ┆ Alexandria, LA          ┆ 5             ┆ 331.027846  │\n",
      "└──────────┴─────────────────────────┴───────────────┴─────────────┘\n"
     ]
    }
   ],
   "source": [
    "print(len(df1_pl))\n",
    "start = perf_counter()\n",
    "df1_pl_agg = df1_pl.groupby([\"dma_code\", \"dma_name\"])\\\n",
    "            .agg([\n",
    "                pl.col(\"postal_code_2\").n_unique().alias(\"ZipCodesInDMA\"),\n",
    "                pl.col(\"total_sales\").sum()\n",
    "            ]).sort(\"dma_name\", nulls_last=True)\n",
    "end = perf_counter() \n",
    "print(f\"Spent {round(end-start,3)}s.\")\n",
    "print(df1_pl_agg.limit(5))"
   ]
  },
  {
   "cell_type": "code",
   "execution_count": 24,
   "metadata": {},
   "outputs": [
    {
     "name": "stdout",
     "output_type": "stream",
     "text": [
      "84288\n",
      "Spent 0.031s.\n",
      "     dma_code                 dma_name  postal_code_2  total_sales\n",
      "129     662.0       Abilene-Sweetwater              8   643.593381\n",
      "25      525.0               Albany, GA              8   868.506348\n",
      "32      532.0  Albany-Schenectady-Troy             69  8595.964934\n",
      "184     790.0     Albuquerque-Santa Fe             34  7881.710945\n",
      "117     644.0           Alexandria, LA              5   331.027846\n"
     ]
    }
   ],
   "source": [
    "print(len(df1_pd))\n",
    "start = perf_counter()\n",
    "df1_pd_agg = df1_pd.groupby([\"dma_code\", \"dma_name\"], as_index=False)\\\n",
    "            .agg({\n",
    "                \"postal_code_2\" : \"nunique\",\n",
    "                \"total_sales\" : \"sum\"\n",
    "            }).sort_values(\"dma_name\")\n",
    "end = perf_counter() \n",
    "print(f\"Spent {round(end-start,3)}s.\")\n",
    "print(df1_pd_agg.head(5))"
   ]
  },
  {
   "cell_type": "code",
   "execution_count": 21,
   "metadata": {},
   "outputs": [
    {
     "name": "stdout",
     "output_type": "stream",
     "text": [
      "1.74 ms ± 28.6 µs per loop (mean ± std. dev. of 7 runs, 1,000 loops each)\n"
     ]
    }
   ],
   "source": [
    "%%timeit \n",
    "\n",
    "_ = df1_pl.groupby([\"dma_code\", \"dma_name\"])\\\n",
    "        .agg([\n",
    "            pl.col(\"postal_code_2\").n_unique().alias(\"ZipCodesInDMA\"),\n",
    "            pl.col(\"total_sales\").sum()\n",
    "        ])"
   ]
  },
  {
   "cell_type": "code",
   "execution_count": 22,
   "metadata": {},
   "outputs": [
    {
     "name": "stdout",
     "output_type": "stream",
     "text": [
      "20.5 ms ± 276 µs per loop (mean ± std. dev. of 7 runs, 10 loops each)\n"
     ]
    }
   ],
   "source": [
    "%%timeit \n",
    "_ = df1_pd.groupby([\"dma_code\", \"dma_name\"], sort=False, as_index=False)\\\n",
    "            .agg({\n",
    "                \"postal_code_2\" : \"nunique\",\n",
    "                \"total_sales\" : \"sum\"\n",
    "            })"
   ]
  }
 ],
 "metadata": {
  "kernelspec": {
   "display_name": "Python 3.10.8 ('tq_latest')",
   "language": "python",
   "name": "python3"
  },
  "language_info": {
   "codemirror_mode": {
    "name": "ipython",
    "version": 3
   },
   "file_extension": ".py",
   "mimetype": "text/x-python",
   "name": "python",
   "nbconvert_exporter": "python",
   "pygments_lexer": "ipython3",
   "version": "3.10.8"
  },
  "orig_nbformat": 4,
  "vscode": {
   "interpreter": {
    "hash": "f5794bf2bf46788eacda11f1edc432410162ee9311f726f100d60f3791086bb7"
   }
  }
 },
 "nbformat": 4,
 "nbformat_minor": 2
}
